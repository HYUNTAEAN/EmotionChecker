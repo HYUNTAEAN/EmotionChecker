{
 "cells": [
  {
   "cell_type": "code",
   "execution_count": null,
   "id": "602bcf78",
   "metadata": {},
   "outputs": [
    {
     "name": "stdout",
     "output_type": "stream",
     "text": [
      "WARNING:tensorflow:Error in loading the saved optimizer state. As a result, your model is starting with a freshly initialized optimizer.\n",
      "WARNING:tensorflow:Model was constructed with shape (None, 64, 64, 1) for input Tensor(\"input_1_7:0\", shape=(None, 64, 64, 1), dtype=float32), but it was called on an input with incompatible shape (None, 48, 48, 1).\n"
     ]
    }
   ],
   "source": [
    "import numpy as np\n",
    "import cv2\n",
    "from keras.preprocessing.image import img_to_array\n",
    "from keras.models import load_model\n",
    "\n",
    "\n",
    "xml = r'C:\\Users\\user\\haarcascade_frontalface_alt.xml'\n",
    "hdf5 = r'C:\\Users\\user\\emotion_model.hdf5'\n",
    "\n",
    "face_cascade = cv2.CascadeClassifier(xml)\n",
    "emotion_classifier = load_model(hdf5)\n",
    "EMOTIONS = [\"Angry\", \"Disgusting\", \"Fearful\", \"Happy\", \"Sad\", \"Surpring\", \"Neutral\"]\n",
    "\n",
    "cap = cv2.VideoCapture(0)\n",
    "cap.set(3,640)\n",
    "cap.set(4,480)\n",
    "\n",
    "while(True):\n",
    "    ret, frame = cap.read() # Capture\n",
    "    frame = cv2.flip(frame,1)\n",
    "    gray = cv2.cvtColor(frame, cv2.COLOR_BGR2GRAY) # Gray로 Convert\n",
    "    \n",
    "    faces = face_cascade.detectMultiScale(gray,1.05,5) # 얼굴 정보 찾기\n",
    "    \n",
    "    canvas = np.zeros((250,300,3), dtype=\"uint8\") # 빈 이미지 공간 생성\n",
    "    \n",
    "    if len(faces) > 0:\n",
    "        face = sorted(faces, reverse=True, key=lambda x: (x[2]-x[0])*(x[3]-x[1]))[0]\n",
    "        (fX, fY, fW, fH) = face\n",
    "        \n",
    "        roi = gray[fY:fY + fH, fX:fX + fW]\n",
    "        roi = cv2.resize(roi,(48,48))\n",
    "        roi = roi.astype(\"float\") / 255.0\n",
    "        roi = img_to_array(roi)\n",
    "        roi = np.expand_dims(roi, axis=0)\n",
    "        \n",
    "        predic = emotion_classifier.predict(roi)[0]\n",
    "        emotion_probability = np.max(predic)\n",
    "        label = EMOTIONS[predic.argmax()]\n",
    "        \n",
    "        cv2.putText(frame, label, (fX, fY-10), cv2.FONT_HERSHEY_SIMPLEX, 0.45, (0,0,255), 2)\n",
    "        cv2.rectangle(frame, (fX, fY), (fX+fW, fY+fH), (0,0,255),2)\n",
    "        \n",
    "        for (i, (emotion, prob)) in enumerate(zip(EMOTIONS, predic)):\n",
    "            text = \"{}: {:.2f}%\".format(emotion, prob*100)\n",
    "            w = int(prob*300)\n",
    "            cv2.rectangle(canvas, (7,(i*35)+5),(w,(i*35)+35),(0,0,255),-1)\n",
    "            cv2.putText(canvas, text, (10,(i*35)+23), cv2.FONT_HERSHEY_SIMPLEX, 0.45, (255,255,255),2)\n",
    "     \n",
    "    cv2.imshow('Your Face', frame)\n",
    "    cv2.imshow('Calculating...', canvas)\n",
    "    \n",
    "    k = cv2.waitKey(30) & 0xff\n",
    "    if k == 27:\n",
    "        break\n",
    "cap.release()\n",
    "cv2.destroyAllWindows()\n"
   ]
  },
  {
   "cell_type": "code",
   "execution_count": null,
   "id": "2bb42cec",
   "metadata": {},
   "outputs": [],
   "source": []
  }
 ],
 "metadata": {
  "kernelspec": {
   "display_name": "Python 3",
   "language": "python",
   "name": "python3"
  },
  "language_info": {
   "codemirror_mode": {
    "name": "ipython",
    "version": 3
   },
   "file_extension": ".py",
   "mimetype": "text/x-python",
   "name": "python",
   "nbconvert_exporter": "python",
   "pygments_lexer": "ipython3",
   "version": "3.8.8"
  }
 },
 "nbformat": 4,
 "nbformat_minor": 5
}
